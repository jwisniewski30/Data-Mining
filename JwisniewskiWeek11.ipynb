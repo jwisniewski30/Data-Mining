{
 "cells": [
  {
   "cell_type": "code",
   "execution_count": 1,
   "id": "5cbb83be",
   "metadata": {},
   "outputs": [],
   "source": [
    "# 11.2 Exercise \n",
    "# Building a CNN Image Classifier\n",
    "## Justin Wisniewski"
   ]
  },
  {
   "cell_type": "code",
   "execution_count": 2,
   "id": "8f57ebe8",
   "metadata": {},
   "outputs": [],
   "source": [
    "# Load the MNIST data set\n",
    "import numpy as np\n",
    "from keras.datasets import mnist\n",
    "from keras.models import Model\n",
    "from keras.layers import Dense, Input\n",
    "from keras.layers import Conv2D, MaxPooling2D, Dropout, Flatten\n",
    "from keras import backend as k\n",
    "import matplotlib.pyplot as plt"
   ]
  },
  {
   "cell_type": "code",
   "execution_count": 3,
   "id": "95ce3d73",
   "metadata": {},
   "outputs": [],
   "source": [
    "# Load data and target from MNIST data\n",
    "(data_train, target_train), (data_test, target_test) = mnist.load_data()"
   ]
  },
  {
   "cell_type": "code",
   "execution_count": 4,
   "id": "e79158bc",
   "metadata": {},
   "outputs": [
    {
     "name": "stdout",
     "output_type": "stream",
     "text": [
      "Train: X=(60000, 28, 28), y=(60000,)\n",
      "Test: X=(10000, 28, 28), y=(10000,)\n"
     ]
    },
    {
     "data": {
      "image/png": "[encoded data removed]",
      "text/plain": [
       "<Figure size 432x288 with 1 Axes>"
      ]
     },
     "metadata": {
      "needs_background": "light"
     },
     "output_type": "display_data"
    },
    {
     "data": {
      "image/png": "[encoded data removed]",
      "text/plain": [
       "<Figure size 432x288 with 1 Axes>"
      ]
     },
     "metadata": {
      "needs_background": "light"
     },
     "output_type": "display_data"
    },
    {
     "data": {
      "image/png": "[encoded data removed]",
      "text/plain": [
       "<Figure size 432x288 with 1 Axes>"
      ]
     },
     "metadata": {
      "needs_background": "light"
     },
     "output_type": "display_data"
    },
    {
     "data": {
      "image/png": "[encoded data removed]",
      "text/plain": [
       "<Figure size 432x288 with 1 Axes>"
      ]
     },
     "metadata": {
      "needs_background": "light"
     },
     "output_type": "display_data"
    },
    {
     "data": {
      "image/png": "[encoded data removed]",
      "text/plain": [
       "<Figure size 432x288 with 1 Axes>"
      ]
     },
     "metadata": {
      "needs_background": "light"
     },
     "output_type": "display_data"
    }
   ],
   "source": [
    "# Summarize loaded dataset\n",
    "print('Train: X=%s, y=%s' % (data_train.shape, target_train.shape))\n",
    "print('Test: X=%s, y=%s' % (data_test.shape, target_test.shape))\n",
    "# Plot first five images\n",
    "for i in range(5):\n",
    " # Define subplot\n",
    " plt.subplot(330 + 1 + i)\n",
    " # Plot raw pixel data\n",
    " plt.imshow(data_train[i], cmap=plt.get_cmap('gray'))\n",
    "# Show the figure\n",
    " plt.show()"
   ]
  },
  {
   "cell_type": "code",
   "execution_count": 5,
   "id": "bf2d03fb",
   "metadata": {},
   "outputs": [
    {
     "name": "stdout",
     "output_type": "stream",
     "text": [
      "5\n",
      "0\n",
      "4\n",
      "1\n",
      "9\n"
     ]
    }
   ],
   "source": [
    "# Compare to the first five training labels\n",
    "print(target_train[0])\n",
    "print(target_train[1])\n",
    "print(target_train[2])\n",
    "print(target_train[3])\n",
    "print(target_train[4])"
   ]
  },
  {
   "cell_type": "code",
   "execution_count": 6,
   "id": "ad5fc73a",
   "metadata": {},
   "outputs": [
    {
     "name": "stdout",
     "output_type": "stream",
     "text": [
      "5\n"
     ]
    },
    {
     "data": {
      "text/plain": [
       "<matplotlib.image.AxesImage at 0x207d8b0ca00>"
      ]
     },
     "execution_count": 6,
     "metadata": {},
     "output_type": "execute_result"
    },
    {
     "data": {
      "image/png": "[encoded data removed]",
      "text/plain": [
       "<Figure size 432x288 with 1 Axes>"
      ]
     },
     "metadata": {
      "needs_background": "light"
     },
     "output_type": "display_data"
    }
   ],
   "source": [
    "image_index = 0 # You may select anything up to 60,000\n",
    "print(target_train[image_index])\n",
    "plt.imshow(data_train[image_index], cmap='Greys')"
   ]
  },
  {
   "cell_type": "code",
   "execution_count": 7,
   "id": "f9c7154b",
   "metadata": {},
   "outputs": [],
   "source": [
    "img_rows, img_cols=28, 28\n",
    " \n",
    "if k.image_data_format() == 'channels_first':\n",
    "   data_train = data_train.reshape(data_train.shape[0], 1, img_rows, img_cols)\n",
    "   data_test = data_test.reshape(data_test.shape[0], 1, img_rows, img_cols)\n",
    "   inpx = (1, img_rows, img_cols)\n",
    " \n",
    "else:\n",
    "   data_train = data_train.reshape(data_train.shape[0], img_rows, img_cols, 1)\n",
    "   data_test = data_test.reshape(data_test.shape[0], img_rows, img_cols, 1)\n",
    "   inpx = (img_rows, img_cols, 1)\n",
    " \n",
    "data_train = data_train.astype('float32')\n",
    "data_test = data_test.astype('float32')\n",
    "data_train /= 255\n",
    "data_test /= 255"
   ]
  },
  {
   "cell_type": "code",
   "execution_count": 9,
   "id": "ea641da3",
   "metadata": {},
   "outputs": [],
   "source": [
    "import keras\n",
    "import keras.utils\n",
    "from keras import utils as np_utils\n",
    "target_train = keras.utils.to_categorical(target_train)\n",
    "target_test = keras.utils.to_categorical(target_test)"
   ]
  },
  {
   "cell_type": "code",
   "execution_count": 10,
   "id": "03ebb201",
   "metadata": {},
   "outputs": [],
   "source": [
    "inpx = Input(shape=inpx)\n",
    "layer1 = Conv2D(32, kernel_size=(3, 3), activation='relu')(inpx)\n",
    "layer2 = Conv2D(64, (3, 3), activation='relu')(layer1)\n",
    "layer3 = MaxPooling2D(pool_size=(3, 3))(layer2)\n",
    "layer4 = Dropout(0.5)(layer3)\n",
    "layer5 = Flatten()(layer4)\n",
    "layer6 = Dense(250, activation='sigmoid')(layer5)\n",
    "layer7 = Dense(10, activation='softmax')(layer6)"
   ]
  },
  {
   "cell_type": "code",
   "execution_count": 12,
   "id": "3f18edda",
   "metadata": {},
   "outputs": [
    {
     "name": "stdout",
     "output_type": "stream",
     "text": [
      "Epoch 1/12\n",
      "120/120 [==============================] - 280s 2s/step - loss: 2.3589 - accuracy: 0.0986\n",
      "Epoch 2/12\n",
      "120/120 [==============================] - 347s 3s/step - loss: 2.3503 - accuracy: 0.0986\n",
      "Epoch 3/12\n",
      "120/120 [==============================] - 312s 3s/step - loss: 2.3418 - accuracy: 0.0986\n",
      "Epoch 4/12\n",
      "120/120 [==============================] - 279s 2s/step - loss: 2.3340 - accuracy: 0.0986\n",
      "Epoch 5/12\n",
      "120/120 [==============================] - 288s 2s/step - loss: 2.3265 - accuracy: 0.0986\n",
      "Epoch 6/12\n",
      "120/120 [==============================] - 301s 2s/step - loss: 2.3195 - accuracy: 0.0986\n",
      "Epoch 7/12\n",
      "120/120 [==============================] - 299s 2s/step - loss: 2.3129 - accuracy: 0.0986\n",
      "Epoch 8/12\n",
      "120/120 [==============================] - 310s 3s/step - loss: 2.3066 - accuracy: 0.0986\n",
      "Epoch 9/12\n",
      "120/120 [==============================] - 301s 3s/step - loss: 2.3005 - accuracy: 0.0986\n",
      "Epoch 10/12\n",
      "120/120 [==============================] - 305s 3s/step - loss: 2.2947 - accuracy: 0.0986\n",
      "Epoch 11/12\n",
      "120/120 [==============================] - 315s 3s/step - loss: 2.2893 - accuracy: 0.0986\n",
      "Epoch 12/12\n",
      "120/120 [==============================] - 321s 3s/step - loss: 2.2839 - accuracy: 0.0986\n"
     ]
    },
    {
     "data": {
      "text/plain": [
       "<keras.callbacks.History at 0x207d7280cd0>"
      ]
     },
     "execution_count": 12,
     "metadata": {},
     "output_type": "execute_result"
    }
   ],
   "source": [
    "model = Model([inpx], layer7)\n",
    "model.compile(optimizer=keras.optimizers.Adadelta(),\n",
    "              loss=keras.losses.categorical_crossentropy,\n",
    "              metrics=['accuracy'])\n",
    " \n",
    "model.fit(data_train, target_train, epochs=12, batch_size=500)"
   ]
  },
  {
   "cell_type": "code",
   "execution_count": 13,
   "id": "10f1beb6",
   "metadata": {},
   "outputs": [
    {
     "name": "stdout",
     "output_type": "stream",
     "text": [
      "loss= 2.2816460132598877\n",
      "accuracy= 0.0957999974489212\n"
     ]
    }
   ],
   "source": [
    "score = model.evaluate(data_test, target_test, verbose=0)\n",
    "print('loss=', score[0])\n",
    "print('accuracy=', score[1])"
   ]
  },
  {
   "cell_type": "code",
   "execution_count": 21,
   "id": "c990d7e7",
   "metadata": {},
   "outputs": [
    {
     "name": "stdout",
     "output_type": "stream",
     "text": [
      "1875/1875 - 117s - 117s/epoch - 63ms/step\n",
      "tf.Tensor(\n",
      "[[   0    0    0    0    0    0 5923    0    0    0]\n",
      " [   0    0    0    0    0    0 6742    0    0    0]\n",
      " [   0    0    0    0    0    0 5958    0    0    0]\n",
      " [   0    0    0    0    0    0 6131    0    0    0]\n",
      " [   0    0    0    0    0    0 5842    0    0    0]\n",
      " [   0    0    0    0    0    0 5421    0    0    0]\n",
      " [   0    0    0    0    0    0 5918    0    0    0]\n",
      " [   0    0    0    0    0    0 6265    0    0    0]\n",
      " [   0    0    0    0    0    0 5851    0    0    0]\n",
      " [   0    0    0    0    0    0 5949    0    0    0]], shape=(10, 10), dtype=int32)\n"
     ]
    }
   ],
   "source": [
    "from sklearn.metrics import confusion_matrix\n",
    "import tensorflow as tf\n",
    "from tensorflow.keras import datasets, layers, models\n",
    "\n",
    "# Get predictions\n",
    "y_pred = model.predict(data_train, verbose=2)\n",
    "num_of_classess = 10 \n",
    "\n",
    "# Compute confusion matrix with `tf` \n",
    "confusion = tf.math.confusion_matrix(\n",
    "              labels = np.argmax(target_train, axis=1),      # get trule labels \n",
    "              predictions = np.argmax(y_pred, axis=1),  # get predicted labels \n",
    "              num_classes=num_of_classess)              # no. of classifier \n",
    "\n",
    "print(confusion)"
   ]
  },
  {
   "cell_type": "code",
   "execution_count": null,
   "id": "40c930c3",
   "metadata": {},
   "outputs": [],
   "source": [
    "# The results do not appear to be accurate based off what I have seen in similar examples online.  I do bleieve they are supposed to be spread out\n",
    "# amongst the different classes, but I also am not 100% sure."
   ]
  }
 ],
 "metadata": {
  "kernelspec": {
   "display_name": "Python 3 (ipykernel)",
   "language": "python",
   "name": "python3"
  },
  "language_info": {
   "codemirror_mode": {
    "name": "ipython",
    "version": 3
   },
   "file_extension": ".py",
   "mimetype": "text/x-python",
   "name": "python",
   "nbconvert_exporter": "python",
   "pygments_lexer": "ipython3",
   "version": "3.9.12"
  }
 },
 "nbformat": 4,
 "nbformat_minor": 5
}
