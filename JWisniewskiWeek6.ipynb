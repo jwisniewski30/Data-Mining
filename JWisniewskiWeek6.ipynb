{
 "cells": [
  {
   "cell_type": "code",
   "execution_count": 1,
   "id": "3611d874",
   "metadata": {},
   "outputs": [],
   "source": [
    "# 6.2 Term Project Milestone 1\n",
    "# Data Selection and EDA\n",
    "## Justin Wisniewski"
   ]
  },
  {
   "cell_type": "code",
   "execution_count": 2,
   "id": "d4f719bc",
   "metadata": {},
   "outputs": [],
   "source": [
    "# Load necessary libraries\n",
    "import numpy as np\n",
    "import pandas as pd\n",
    "import matplotlib.pyplot as plt"
   ]
  },
  {
   "cell_type": "code",
   "execution_count": 3,
   "id": "9aaa8c58",
   "metadata": {},
   "outputs": [],
   "source": [
    "# Read in the Insurance Claim dataset\n",
    "df=pd.read_csv(\"insurance_data.csv\")"
   ]
  },
  {
   "cell_type": "code",
   "execution_count": 4,
   "id": "4ee222f1",
   "metadata": {},
   "outputs": [
    {
     "data": {
      "text/html": [
       "<div>\n",
       "<style scoped>\n",
       "    .dataframe tbody tr th:only-of-type {\n",
       "        vertical-align: middle;\n",
       "    }\n",
       "\n",
       "    .dataframe tbody tr th {\n",
       "        vertical-align: top;\n",
       "    }\n",
       "\n",
       "    .dataframe thead th {\n",
       "        text-align: right;\n",
       "    }\n",
       "</style>\n",
       "<table border=\"1\" class=\"dataframe\">\n",
       "  <thead>\n",
       "    <tr style=\"text-align: right;\">\n",
       "      <th></th>\n",
       "      <th>index</th>\n",
       "      <th>PatientID</th>\n",
       "      <th>age</th>\n",
       "      <th>gender</th>\n",
       "      <th>bmi</th>\n",
       "      <th>bloodpressure</th>\n",
       "      <th>diabetic</th>\n",
       "      <th>children</th>\n",
       "      <th>smoker</th>\n",
       "      <th>region</th>\n",
       "      <th>claim</th>\n",
       "    </tr>\n",
       "  </thead>\n",
       "  <tbody>\n",
       "    <tr>\n",
       "      <th>0</th>\n",
       "      <td>0</td>\n",
       "      <td>1</td>\n",
       "      <td>39.0</td>\n",
       "      <td>male</td>\n",
       "      <td>23.2</td>\n",
       "      <td>91</td>\n",
       "      <td>Yes</td>\n",
       "      <td>0</td>\n",
       "      <td>No</td>\n",
       "      <td>southeast</td>\n",
       "      <td>1121.87</td>\n",
       "    </tr>\n",
       "    <tr>\n",
       "      <th>1</th>\n",
       "      <td>1</td>\n",
       "      <td>2</td>\n",
       "      <td>24.0</td>\n",
       "      <td>male</td>\n",
       "      <td>30.1</td>\n",
       "      <td>87</td>\n",
       "      <td>No</td>\n",
       "      <td>0</td>\n",
       "      <td>No</td>\n",
       "      <td>southeast</td>\n",
       "      <td>1131.51</td>\n",
       "    </tr>\n",
       "    <tr>\n",
       "      <th>2</th>\n",
       "      <td>2</td>\n",
       "      <td>3</td>\n",
       "      <td>NaN</td>\n",
       "      <td>male</td>\n",
       "      <td>33.3</td>\n",
       "      <td>82</td>\n",
       "      <td>Yes</td>\n",
       "      <td>0</td>\n",
       "      <td>No</td>\n",
       "      <td>southeast</td>\n",
       "      <td>1135.94</td>\n",
       "    </tr>\n",
       "    <tr>\n",
       "      <th>3</th>\n",
       "      <td>3</td>\n",
       "      <td>4</td>\n",
       "      <td>NaN</td>\n",
       "      <td>male</td>\n",
       "      <td>33.7</td>\n",
       "      <td>80</td>\n",
       "      <td>No</td>\n",
       "      <td>0</td>\n",
       "      <td>No</td>\n",
       "      <td>northwest</td>\n",
       "      <td>1136.40</td>\n",
       "    </tr>\n",
       "    <tr>\n",
       "      <th>4</th>\n",
       "      <td>4</td>\n",
       "      <td>5</td>\n",
       "      <td>NaN</td>\n",
       "      <td>male</td>\n",
       "      <td>34.1</td>\n",
       "      <td>100</td>\n",
       "      <td>No</td>\n",
       "      <td>0</td>\n",
       "      <td>No</td>\n",
       "      <td>northwest</td>\n",
       "      <td>1137.01</td>\n",
       "    </tr>\n",
       "  </tbody>\n",
       "</table>\n",
       "</div>"
      ],
      "text/plain": [
       "   index  PatientID   age gender   bmi  bloodpressure diabetic  children  \\\n",
       "0      0          1  39.0   male  23.2             91      Yes         0   \n",
       "1      1          2  24.0   male  30.1             87       No         0   \n",
       "2      2          3   NaN   male  33.3             82      Yes         0   \n",
       "3      3          4   NaN   male  33.7             80       No         0   \n",
       "4      4          5   NaN   male  34.1            100       No         0   \n",
       "\n",
       "  smoker     region    claim  \n",
       "0     No  southeast  1121.87  \n",
       "1     No  southeast  1131.51  \n",
       "2     No  southeast  1135.94  \n",
       "3     No  northwest  1136.40  \n",
       "4     No  northwest  1137.01  "
      ]
     },
     "execution_count": 4,
     "metadata": {},
     "output_type": "execute_result"
    }
   ],
   "source": [
    "# Display the first 5 rows of data\n",
    "df.head(5)"
   ]
  },
  {
   "cell_type": "code",
   "execution_count": 5,
   "id": "cbde13de",
   "metadata": {},
   "outputs": [
    {
     "data": {
      "text/plain": [
       "index            0\n",
       "PatientID        0\n",
       "age              5\n",
       "gender           0\n",
       "bmi              0\n",
       "bloodpressure    0\n",
       "diabetic         0\n",
       "children         0\n",
       "smoker           0\n",
       "region           3\n",
       "claim            0\n",
       "dtype: int64"
      ]
     },
     "execution_count": 5,
     "metadata": {},
     "output_type": "execute_result"
    }
   ],
   "source": [
    "# Identify missing values within columns\n",
    "# There are missing values within the age and region column\n",
    "df.isna().sum()"
   ]
  },
  {
   "cell_type": "code",
   "execution_count": 6,
   "id": "43ad2c54",
   "metadata": {},
   "outputs": [
    {
     "data": {
      "text/plain": [
       "(1340, 9)"
      ]
     },
     "execution_count": 6,
     "metadata": {},
     "output_type": "execute_result"
    }
   ],
   "source": [
    "# Dropping index and patientID columns\n",
    "df = df.drop(['index','PatientID'], axis=1)\n",
    "df.shape"
   ]
  },
  {
   "cell_type": "code",
   "execution_count": 7,
   "id": "a70408e0",
   "metadata": {},
   "outputs": [],
   "source": [
    "import seaborn as sns\n",
    "from sklearn.preprocessing import LabelEncoder\n",
    "\n",
    "from kmodes.kmodes import KModes\n",
    "from kmodes.kprototypes import KPrototypes\n",
    "\n",
    "import pickle\n",
    "from pathlib import Path"
   ]
  },
  {
   "cell_type": "code",
   "execution_count": 9,
   "id": "ba63321a",
   "metadata": {},
   "outputs": [
    {
     "name": "stderr",
     "output_type": "stream",
     "text": [
      "C:\\Users\\jwiz3\\anaconda\\lib\\site-packages\\seaborn\\_decorators.py:36: FutureWarning: Pass the following variable as a keyword arg: x. From version 0.12, the only valid positional argument will be `data`, and passing other arguments without an explicit keyword will result in an error or misinterpretation.\n",
      "  warnings.warn(\n"
     ]
    },
    {
     "data": {
      "text/plain": [
       "<AxesSubplot:xlabel='age'>"
      ]
     },
     "execution_count": 9,
     "metadata": {},
     "output_type": "execute_result"
    },
    {
     "data": {
      "image/png": "[encoded data removed]",
      "text/plain": [
       "<Figure size 432x288 with 1 Axes>"
      ]
     },
     "metadata": {
      "needs_background": "light"
     },
     "output_type": "display_data"
    }
   ],
   "source": [
    "# Use boxplot to identify age range of claim submissions, as well as any outliers that may exist\n",
    "sns.boxplot(df['age'])"
   ]
  },
  {
   "cell_type": "code",
   "execution_count": 10,
   "id": "efd7d082",
   "metadata": {},
   "outputs": [],
   "source": [
    "# Fill in missing values in age column with mean\n",
    "df['age'] = df['age'].fillna(df['age'].mean())"
   ]
  },
  {
   "cell_type": "code",
   "execution_count": 11,
   "id": "9e487f35",
   "metadata": {},
   "outputs": [],
   "source": [
    "# Fill missing values in region column with the most amount of unique value in data\n",
    "df['region'] = df['region'].fillna(df['region'].mode()[0])"
   ]
  },
  {
   "cell_type": "code",
   "execution_count": 12,
   "id": "96d02e2f",
   "metadata": {},
   "outputs": [
    {
     "data": {
      "text/plain": [
       "0"
      ]
     },
     "execution_count": 12,
     "metadata": {},
     "output_type": "execute_result"
    }
   ],
   "source": [
    "df.isna().sum().sum()"
   ]
  },
  {
   "cell_type": "code",
   "execution_count": 13,
   "id": "2f28b9d2",
   "metadata": {},
   "outputs": [
    {
     "data": {
      "text/html": [
       "<div>\n",
       "<style scoped>\n",
       "    .dataframe tbody tr th:only-of-type {\n",
       "        vertical-align: middle;\n",
       "    }\n",
       "\n",
       "    .dataframe tbody tr th {\n",
       "        vertical-align: top;\n",
       "    }\n",
       "\n",
       "    .dataframe thead th {\n",
       "        text-align: right;\n",
       "    }\n",
       "</style>\n",
       "<table border=\"1\" class=\"dataframe\">\n",
       "  <thead>\n",
       "    <tr style=\"text-align: right;\">\n",
       "      <th></th>\n",
       "      <th>age</th>\n",
       "      <th>bmi</th>\n",
       "      <th>bloodpressure</th>\n",
       "      <th>children</th>\n",
       "      <th>claim</th>\n",
       "    </tr>\n",
       "  </thead>\n",
       "  <tbody>\n",
       "    <tr>\n",
       "      <th>0</th>\n",
       "      <td>39.000000</td>\n",
       "      <td>23.2</td>\n",
       "      <td>91</td>\n",
       "      <td>0</td>\n",
       "      <td>1121.87</td>\n",
       "    </tr>\n",
       "    <tr>\n",
       "      <th>1</th>\n",
       "      <td>24.000000</td>\n",
       "      <td>30.1</td>\n",
       "      <td>87</td>\n",
       "      <td>0</td>\n",
       "      <td>1131.51</td>\n",
       "    </tr>\n",
       "    <tr>\n",
       "      <th>2</th>\n",
       "      <td>38.078652</td>\n",
       "      <td>33.3</td>\n",
       "      <td>82</td>\n",
       "      <td>0</td>\n",
       "      <td>1135.94</td>\n",
       "    </tr>\n",
       "    <tr>\n",
       "      <th>3</th>\n",
       "      <td>38.078652</td>\n",
       "      <td>33.7</td>\n",
       "      <td>80</td>\n",
       "      <td>0</td>\n",
       "      <td>1136.40</td>\n",
       "    </tr>\n",
       "    <tr>\n",
       "      <th>4</th>\n",
       "      <td>38.078652</td>\n",
       "      <td>34.1</td>\n",
       "      <td>100</td>\n",
       "      <td>0</td>\n",
       "      <td>1137.01</td>\n",
       "    </tr>\n",
       "    <tr>\n",
       "      <th>...</th>\n",
       "      <td>...</td>\n",
       "      <td>...</td>\n",
       "      <td>...</td>\n",
       "      <td>...</td>\n",
       "      <td>...</td>\n",
       "    </tr>\n",
       "    <tr>\n",
       "      <th>1335</th>\n",
       "      <td>44.000000</td>\n",
       "      <td>35.5</td>\n",
       "      <td>88</td>\n",
       "      <td>0</td>\n",
       "      <td>55135.40</td>\n",
       "    </tr>\n",
       "    <tr>\n",
       "      <th>1336</th>\n",
       "      <td>59.000000</td>\n",
       "      <td>38.1</td>\n",
       "      <td>120</td>\n",
       "      <td>1</td>\n",
       "      <td>58571.07</td>\n",
       "    </tr>\n",
       "    <tr>\n",
       "      <th>1337</th>\n",
       "      <td>30.000000</td>\n",
       "      <td>34.5</td>\n",
       "      <td>91</td>\n",
       "      <td>3</td>\n",
       "      <td>60021.40</td>\n",
       "    </tr>\n",
       "    <tr>\n",
       "      <th>1338</th>\n",
       "      <td>37.000000</td>\n",
       "      <td>30.4</td>\n",
       "      <td>106</td>\n",
       "      <td>0</td>\n",
       "      <td>62592.87</td>\n",
       "    </tr>\n",
       "    <tr>\n",
       "      <th>1339</th>\n",
       "      <td>30.000000</td>\n",
       "      <td>47.4</td>\n",
       "      <td>101</td>\n",
       "      <td>0</td>\n",
       "      <td>63770.43</td>\n",
       "    </tr>\n",
       "  </tbody>\n",
       "</table>\n",
       "<p>1340 rows × 5 columns</p>\n",
       "</div>"
      ],
      "text/plain": [
       "            age   bmi  bloodpressure  children     claim\n",
       "0     39.000000  23.2             91         0   1121.87\n",
       "1     24.000000  30.1             87         0   1131.51\n",
       "2     38.078652  33.3             82         0   1135.94\n",
       "3     38.078652  33.7             80         0   1136.40\n",
       "4     38.078652  34.1            100         0   1137.01\n",
       "...         ...   ...            ...       ...       ...\n",
       "1335  44.000000  35.5             88         0  55135.40\n",
       "1336  59.000000  38.1            120         1  58571.07\n",
       "1337  30.000000  34.5             91         3  60021.40\n",
       "1338  37.000000  30.4            106         0  62592.87\n",
       "1339  30.000000  47.4            101         0  63770.43\n",
       "\n",
       "[1340 rows x 5 columns]"
      ]
     },
     "execution_count": 13,
     "metadata": {},
     "output_type": "execute_result"
    }
   ],
   "source": [
    "# Split numeric and categoric features to make it easy for data preprocessing\n",
    "numeric_columns = df.select_dtypes(exclude = [\"object\"])\n",
    "numeric_columns"
   ]
  },
  {
   "cell_type": "code",
   "execution_count": 14,
   "id": "0929e7e4",
   "metadata": {},
   "outputs": [
    {
     "data": {
      "text/html": [
       "<div>\n",
       "<style scoped>\n",
       "    .dataframe tbody tr th:only-of-type {\n",
       "        vertical-align: middle;\n",
       "    }\n",
       "\n",
       "    .dataframe tbody tr th {\n",
       "        vertical-align: top;\n",
       "    }\n",
       "\n",
       "    .dataframe thead th {\n",
       "        text-align: right;\n",
       "    }\n",
       "</style>\n",
       "<table border=\"1\" class=\"dataframe\">\n",
       "  <thead>\n",
       "    <tr style=\"text-align: right;\">\n",
       "      <th></th>\n",
       "      <th>gender</th>\n",
       "      <th>diabetic</th>\n",
       "      <th>smoker</th>\n",
       "      <th>region</th>\n",
       "    </tr>\n",
       "  </thead>\n",
       "  <tbody>\n",
       "    <tr>\n",
       "      <th>0</th>\n",
       "      <td>male</td>\n",
       "      <td>Yes</td>\n",
       "      <td>No</td>\n",
       "      <td>southeast</td>\n",
       "    </tr>\n",
       "    <tr>\n",
       "      <th>1</th>\n",
       "      <td>male</td>\n",
       "      <td>No</td>\n",
       "      <td>No</td>\n",
       "      <td>southeast</td>\n",
       "    </tr>\n",
       "    <tr>\n",
       "      <th>2</th>\n",
       "      <td>male</td>\n",
       "      <td>Yes</td>\n",
       "      <td>No</td>\n",
       "      <td>southeast</td>\n",
       "    </tr>\n",
       "    <tr>\n",
       "      <th>3</th>\n",
       "      <td>male</td>\n",
       "      <td>No</td>\n",
       "      <td>No</td>\n",
       "      <td>northwest</td>\n",
       "    </tr>\n",
       "    <tr>\n",
       "      <th>4</th>\n",
       "      <td>male</td>\n",
       "      <td>No</td>\n",
       "      <td>No</td>\n",
       "      <td>northwest</td>\n",
       "    </tr>\n",
       "    <tr>\n",
       "      <th>...</th>\n",
       "      <td>...</td>\n",
       "      <td>...</td>\n",
       "      <td>...</td>\n",
       "      <td>...</td>\n",
       "    </tr>\n",
       "    <tr>\n",
       "      <th>1335</th>\n",
       "      <td>female</td>\n",
       "      <td>Yes</td>\n",
       "      <td>Yes</td>\n",
       "      <td>northwest</td>\n",
       "    </tr>\n",
       "    <tr>\n",
       "      <th>1336</th>\n",
       "      <td>female</td>\n",
       "      <td>No</td>\n",
       "      <td>Yes</td>\n",
       "      <td>northeast</td>\n",
       "    </tr>\n",
       "    <tr>\n",
       "      <th>1337</th>\n",
       "      <td>male</td>\n",
       "      <td>Yes</td>\n",
       "      <td>Yes</td>\n",
       "      <td>northwest</td>\n",
       "    </tr>\n",
       "    <tr>\n",
       "      <th>1338</th>\n",
       "      <td>male</td>\n",
       "      <td>No</td>\n",
       "      <td>Yes</td>\n",
       "      <td>southeast</td>\n",
       "    </tr>\n",
       "    <tr>\n",
       "      <th>1339</th>\n",
       "      <td>female</td>\n",
       "      <td>No</td>\n",
       "      <td>Yes</td>\n",
       "      <td>southeast</td>\n",
       "    </tr>\n",
       "  </tbody>\n",
       "</table>\n",
       "<p>1340 rows × 4 columns</p>\n",
       "</div>"
      ],
      "text/plain": [
       "      gender diabetic smoker     region\n",
       "0       male      Yes     No  southeast\n",
       "1       male       No     No  southeast\n",
       "2       male      Yes     No  southeast\n",
       "3       male       No     No  northwest\n",
       "4       male       No     No  northwest\n",
       "...      ...      ...    ...        ...\n",
       "1335  female      Yes    Yes  northwest\n",
       "1336  female       No    Yes  northeast\n",
       "1337    male      Yes    Yes  northwest\n",
       "1338    male       No    Yes  southeast\n",
       "1339  female       No    Yes  southeast\n",
       "\n",
       "[1340 rows x 4 columns]"
      ]
     },
     "execution_count": 14,
     "metadata": {},
     "output_type": "execute_result"
    }
   ],
   "source": [
    "categoric_columns = df.select_dtypes(include = [\"object\"])\n",
    "categoric_columns"
   ]
  },
  {
   "cell_type": "code",
   "execution_count": 15,
   "id": "287a9575",
   "metadata": {},
   "outputs": [
    {
     "data": {
      "text/plain": [
       "<AxesSubplot:>"
      ]
     },
     "execution_count": 15,
     "metadata": {},
     "output_type": "execute_result"
    },
    {
     "data": {
      "image/png": "[encoded data removed]",
      "text/plain": [
       "<Figure size 864x432 with 2 Axes>"
      ]
     },
     "metadata": {
      "needs_background": "light"
     },
     "output_type": "display_data"
    }
   ],
   "source": [
    "plt.figure(figsize=(12, 6))\n",
    "sns.heatmap(df.corr(),\n",
    "    cmap = 'BrBG',\n",
    "    fmt = '.2f',\n",
    "    linewidths = 2,\n",
    "    annot = True)"
   ]
  },
  {
   "cell_type": "code",
   "execution_count": null,
   "id": "8c494912",
   "metadata": {},
   "outputs": [],
   "source": [
    "# Blood pressure has strongest correlation score to claim cost\n",
    "# BMI has the second strongest correlation score to claim cost"
   ]
  },
  {
   "cell_type": "code",
   "execution_count": 16,
   "id": "ae80ccff",
   "metadata": {},
   "outputs": [
    {
     "data": {
      "image/png": "[encoded data removed]",
      "text/plain": [
       "<Figure size 1080x576 with 5 Axes>"
      ]
     },
     "metadata": {
      "needs_background": "light"
     },
     "output_type": "display_data"
    }
   ],
   "source": [
    "plt.figure(figsize = (15, 8))\n",
    "number = 1\n",
    "row = 3\n",
    "for i in numeric_columns:\n",
    "    plt.subplot(row, 3, number)\n",
    "    sns.boxplot(x=i, data=df, palette=\"hls\")\n",
    "    number += 1\n",
    "    plt.tight_layout()"
   ]
  },
  {
   "cell_type": "code",
   "execution_count": null,
   "id": "9936cbb2",
   "metadata": {},
   "outputs": [],
   "source": [
    "# Outliers in BMI, Blood Pressure, and Claim columns will need to be deleted"
   ]
  },
  {
   "cell_type": "code",
   "execution_count": 17,
   "id": "8c1a1d60",
   "metadata": {},
   "outputs": [
    {
     "name": "stderr",
     "output_type": "stream",
     "text": [
      "C:\\Users\\jwiz3\\anaconda\\lib\\site-packages\\seaborn\\_decorators.py:36: FutureWarning: Pass the following variable as a keyword arg: x. From version 0.12, the only valid positional argument will be `data`, and passing other arguments without an explicit keyword will result in an error or misinterpretation.\n",
      "  warnings.warn(\n",
      "C:\\Users\\jwiz3\\anaconda\\lib\\site-packages\\seaborn\\_decorators.py:36: FutureWarning: Pass the following variable as a keyword arg: x. From version 0.12, the only valid positional argument will be `data`, and passing other arguments without an explicit keyword will result in an error or misinterpretation.\n",
      "  warnings.warn(\n",
      "C:\\Users\\jwiz3\\anaconda\\lib\\site-packages\\seaborn\\_decorators.py:36: FutureWarning: Pass the following variable as a keyword arg: x. From version 0.12, the only valid positional argument will be `data`, and passing other arguments without an explicit keyword will result in an error or misinterpretation.\n",
      "  warnings.warn(\n",
      "C:\\Users\\jwiz3\\anaconda\\lib\\site-packages\\seaborn\\_decorators.py:36: FutureWarning: Pass the following variable as a keyword arg: x. From version 0.12, the only valid positional argument will be `data`, and passing other arguments without an explicit keyword will result in an error or misinterpretation.\n",
      "  warnings.warn(\n"
     ]
    },
    {
     "data": {
      "image/png": "[encoded data removed]",
      "text/plain": [
       "<Figure size 1080x576 with 4 Axes>"
      ]
     },
     "metadata": {
      "needs_background": "light"
     },
     "output_type": "display_data"
    }
   ],
   "source": [
    "plt.figure(figsize = (15, 8))\n",
    "number = 1\n",
    "row = 3\n",
    "for i in categoric_columns:\n",
    "    plt.subplot(row, 3, number)\n",
    "    sns.countplot(df[i], palette=\"hls\")\n",
    "    number += 1\n",
    "    plt.tight_layout()"
   ]
  },
  {
   "cell_type": "code",
   "execution_count": null,
   "id": "9f128584",
   "metadata": {},
   "outputs": [],
   "source": [
    "# Male, Not Diabetic, Non-Smoker, and Southeast Region are most common claim submittors"
   ]
  },
  {
   "cell_type": "code",
   "execution_count": 18,
   "id": "e9da913b",
   "metadata": {},
   "outputs": [
    {
     "data": {
      "image/png": "[encoded data removed]",
      "text/plain": [
       "<Figure size 1080x576 with 4 Axes>"
      ]
     },
     "metadata": {},
     "output_type": "display_data"
    }
   ],
   "source": [
    "plt.figure(figsize = (15, 8))\n",
    "number = 1\n",
    "row = 3\n",
    "for i in categoric_columns:\n",
    "    plt.subplot(row, 2, number)\n",
    "    df.groupby(i).size().plot(kind='pie', autopct='%.0f%%')\n",
    "    plt.xlabel(i)\n",
    "    number += 1\n",
    "    plt.tight_layout()"
   ]
  },
  {
   "cell_type": "code",
   "execution_count": null,
   "id": "e84e2c20",
   "metadata": {},
   "outputs": [],
   "source": [
    "# Pie chart visualization with percentages for categorical variables"
   ]
  }
 ],
 "metadata": {
  "kernelspec": {
   "display_name": "Python 3 (ipykernel)",
   "language": "python",
   "name": "python3"
  },
  "language_info": {
   "codemirror_mode": {
    "name": "ipython",
    "version": 3
   },
   "file_extension": ".py",
   "mimetype": "text/x-python",
   "name": "python",
   "nbconvert_exporter": "python",
   "pygments_lexer": "ipython3",
   "version": "3.9.12"
  }
 },
 "nbformat": 4,
 "nbformat_minor": 5
}
